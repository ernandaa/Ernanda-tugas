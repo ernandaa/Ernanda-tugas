{
  "nbformat": 4,
  "nbformat_minor": 0,
  "metadata": {
    "colab": {
      "provenance": []
    },
    "kernelspec": {
      "name": "python3",
      "display_name": "Python 3"
    },
    "language_info": {
      "name": "python"
    }
  },
  "cells": [
    {
      "cell_type": "code",
      "execution_count": 1,
      "metadata": {
        "colab": {
          "base_uri": "https://localhost:8080/"
        },
        "id": "ofz0P8kpWU0U",
        "outputId": "4bb31ae1-3d67-4861-f1c3-d572815b8660"
      },
      "outputs": [
        {
          "output_type": "stream",
          "name": "stdout",
          "text": [
            "A B S C D E "
          ]
        }
      ],
      "source": [
        "\n",
        "# Definisi struktur graf\n",
        "graph = {\n",
        "    'A': ['B', 'S'],\n",
        "    'B': ['A'],\n",
        "    'S': ['A', 'C'],\n",
        "    'C': ['S', 'D', 'E'],\n",
        "    'D': ['C'],\n",
        "    'E': ['C']\n",
        "}\n",
        "\n",
        "# Fungsi DFS rekursif\n",
        "def dfs(node, visited):\n",
        "    if node not in visited:\n",
        "        print(node, end=' ')\n",
        "        visited.add(node)\n",
        "        for neighbor in graph[node]:\n",
        "            dfs(neighbor, visited)\n",
        "\n",
        "# Memulai DFS dari node 'A'\n",
        "visited_nodes = set()\n",
        "dfs('A', visited_nodes)"
      ]
    }
  ]
}